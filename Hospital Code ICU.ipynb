{
 "cells": [
  {
   "cell_type": "code",
   "execution_count": 18,
   "metadata": {
    "scrolled": false
   },
   "outputs": [
    {
     "data": {
      "text/html": [
       "<div>\n",
       "<style scoped>\n",
       "    .dataframe tbody tr th:only-of-type {\n",
       "        vertical-align: middle;\n",
       "    }\n",
       "\n",
       "    .dataframe tbody tr th {\n",
       "        vertical-align: top;\n",
       "    }\n",
       "\n",
       "    .dataframe thead th {\n",
       "        text-align: right;\n",
       "    }\n",
       "</style>\n",
       "<table border=\"1\" class=\"dataframe\">\n",
       "  <thead>\n",
       "    <tr style=\"text-align: right;\">\n",
       "      <th></th>\n",
       "      <th>county</th>\n",
       "      <th>todays_date</th>\n",
       "      <th>hospitalized_covid_confirmed_patients</th>\n",
       "      <th>hospitalized_suspected_covid_patients</th>\n",
       "      <th>hospitalized_covid_patients</th>\n",
       "      <th>all_hospital_beds</th>\n",
       "      <th>icu_covid_confirmed_patients</th>\n",
       "      <th>icu_suspected_covid_patients</th>\n",
       "      <th>icu_available_beds</th>\n",
       "    </tr>\n",
       "  </thead>\n",
       "  <tbody>\n",
       "    <tr>\n",
       "      <th>0</th>\n",
       "      <td>Humboldt</td>\n",
       "      <td>2020-03-29</td>\n",
       "      <td>1.0</td>\n",
       "      <td>10.0</td>\n",
       "      <td>NaN</td>\n",
       "      <td>NaN</td>\n",
       "      <td>0.0</td>\n",
       "      <td>0.0</td>\n",
       "      <td>18.0</td>\n",
       "    </tr>\n",
       "    <tr>\n",
       "      <th>1</th>\n",
       "      <td>Lake</td>\n",
       "      <td>2020-03-29</td>\n",
       "      <td>0.0</td>\n",
       "      <td>1.0</td>\n",
       "      <td>NaN</td>\n",
       "      <td>NaN</td>\n",
       "      <td>0.0</td>\n",
       "      <td>1.0</td>\n",
       "      <td>2.0</td>\n",
       "    </tr>\n",
       "    <tr>\n",
       "      <th>2</th>\n",
       "      <td>Kern</td>\n",
       "      <td>2020-03-29</td>\n",
       "      <td>16.0</td>\n",
       "      <td>57.0</td>\n",
       "      <td>NaN</td>\n",
       "      <td>NaN</td>\n",
       "      <td>8.0</td>\n",
       "      <td>8.0</td>\n",
       "      <td>39.0</td>\n",
       "    </tr>\n",
       "    <tr>\n",
       "      <th>3</th>\n",
       "      <td>Yuba</td>\n",
       "      <td>2020-03-29</td>\n",
       "      <td>2.0</td>\n",
       "      <td>12.0</td>\n",
       "      <td>NaN</td>\n",
       "      <td>NaN</td>\n",
       "      <td>2.0</td>\n",
       "      <td>4.0</td>\n",
       "      <td>2.0</td>\n",
       "    </tr>\n",
       "    <tr>\n",
       "      <th>4</th>\n",
       "      <td>Fresno</td>\n",
       "      <td>2020-03-29</td>\n",
       "      <td>8.0</td>\n",
       "      <td>116.0</td>\n",
       "      <td>NaN</td>\n",
       "      <td>NaN</td>\n",
       "      <td>3.0</td>\n",
       "      <td>14.0</td>\n",
       "      <td>22.0</td>\n",
       "    </tr>\n",
       "  </tbody>\n",
       "</table>\n",
       "</div>"
      ],
      "text/plain": [
       "     county todays_date  hospitalized_covid_confirmed_patients  \\\n",
       "0  Humboldt  2020-03-29                                    1.0   \n",
       "1      Lake  2020-03-29                                    0.0   \n",
       "2      Kern  2020-03-29                                   16.0   \n",
       "3      Yuba  2020-03-29                                    2.0   \n",
       "4    Fresno  2020-03-29                                    8.0   \n",
       "\n",
       "   hospitalized_suspected_covid_patients  hospitalized_covid_patients  \\\n",
       "0                                   10.0                          NaN   \n",
       "1                                    1.0                          NaN   \n",
       "2                                   57.0                          NaN   \n",
       "3                                   12.0                          NaN   \n",
       "4                                  116.0                          NaN   \n",
       "\n",
       "   all_hospital_beds  icu_covid_confirmed_patients  \\\n",
       "0                NaN                           0.0   \n",
       "1                NaN                           0.0   \n",
       "2                NaN                           8.0   \n",
       "3                NaN                           2.0   \n",
       "4                NaN                           3.0   \n",
       "\n",
       "   icu_suspected_covid_patients  icu_available_beds  \n",
       "0                           0.0                18.0  \n",
       "1                           1.0                 2.0  \n",
       "2                           8.0                39.0  \n",
       "3                           4.0                 2.0  \n",
       "4                          14.0                22.0  "
      ]
     },
     "execution_count": 18,
     "metadata": {},
     "output_type": "execute_result"
    }
   ],
   "source": [
    "#dependecis and setup\n",
    "import pandas as pd\n",
    "import numpy as np\n",
    "\n",
    "#Output File\n",
    "clean_date = \"CleanCSV/ICU_county.csv\"\n",
    "#load file\n",
    "icu_data = \"Resources/hospitals_by_county.csv\"\n",
    "\n",
    "icu_bed_data = pd.read_csv(icu_data)\n",
    "icu_data_df = pd.DataFrame(icu_bed_data)\n",
    "icu_data_df.head()"
   ]
  },
  {
   "cell_type": "code",
   "execution_count": 19,
   "metadata": {
    "scrolled": true
   },
   "outputs": [],
   "source": [
    "#icu_data_df.set_index(\"county\")\n",
    "#icu_data_df.head()"
   ]
  },
  {
   "cell_type": "code",
   "execution_count": 20,
   "metadata": {},
   "outputs": [
    {
     "ename": "KeyError",
     "evalue": "\"None of [Index(['Alameda', 'Amador', 'Butte', 'Calaveras', 'Colusa', 'Contra Costa',\\n       'Del Norte', 'El Dorado', 'Fresno', 'Glenn', 'Humboldt', 'Imperial',\\n       'Inyo', 'Kern', 'Kings', 'Lake', 'Lassen', 'Los Angeles', 'Madera',\\n       'Marin', 'Mariposa', 'Mendocino', 'Merced', 'Modoc', 'Mono', 'Monterey',\\n       'Napa', 'Nevada', 'Orange', 'Placer', 'Plumas', 'Riverside',\\n       'Sacramento', 'San Benito', 'San Bernardino', 'San Diego',\\n       'San Francisco', 'San Joaquin', 'San Luis Obispo', 'San Mateo',\\n       'Santa Clara', 'Shasta', 'Sutter', 'Siskiyou', 'Solano', 'Sonoma',\\n       'Santa Barbara', 'Stanislaus', 'Tuolumne', 'Trinity', 'Tehama',\\n       'Tulare', 'Ventura', 'Yolo', 'Yuba'],\\n      dtype='object')] are in the [index]\"",
     "output_type": "error",
     "traceback": [
      "\u001b[0;31m---------------------------------------------------------------------------\u001b[0m",
      "\u001b[0;31mKeyError\u001b[0m                                  Traceback (most recent call last)",
      "\u001b[0;32m<ipython-input-20-ad7dedfbf9d4>\u001b[0m in \u001b[0;36m<module>\u001b[0;34m\u001b[0m\n\u001b[0;32m----> 1\u001b[0;31m Sorted_data = icu_data_df.loc[['Alameda', 'Amador', 'Butte', 'Calaveras', 'Colusa', 'Contra Costa', 'Del Norte',\n\u001b[0m\u001b[1;32m      2\u001b[0m                              \u001b[0;34m'El Dorado'\u001b[0m\u001b[0;34m,\u001b[0m \u001b[0;34m'Fresno'\u001b[0m\u001b[0;34m,\u001b[0m \u001b[0;34m'Glenn'\u001b[0m\u001b[0;34m,\u001b[0m\u001b[0;34m'Humboldt'\u001b[0m\u001b[0;34m,\u001b[0m \u001b[0;34m'Imperial'\u001b[0m\u001b[0;34m,\u001b[0m \u001b[0;34m'Inyo'\u001b[0m\u001b[0;34m,\u001b[0m \u001b[0;34m'Kern'\u001b[0m\u001b[0;34m,\u001b[0m \u001b[0;34m'Kings'\u001b[0m\u001b[0;34m,\u001b[0m \u001b[0;34m'Lake'\u001b[0m\u001b[0;34m,\u001b[0m\u001b[0;34m\u001b[0m\u001b[0;34m\u001b[0m\u001b[0m\n\u001b[1;32m      3\u001b[0m                              \u001b[0;34m'Lassen'\u001b[0m\u001b[0;34m,\u001b[0m \u001b[0;34m'Los Angeles'\u001b[0m\u001b[0;34m,\u001b[0m \u001b[0;34m'Madera'\u001b[0m\u001b[0;34m,\u001b[0m \u001b[0;34m'Marin'\u001b[0m\u001b[0;34m,\u001b[0m \u001b[0;34m'Mariposa'\u001b[0m\u001b[0;34m,\u001b[0m \u001b[0;34m'Mendocino'\u001b[0m\u001b[0;34m,\u001b[0m \u001b[0;34m'Merced'\u001b[0m\u001b[0;34m,\u001b[0m \u001b[0;34m'Modoc'\u001b[0m\u001b[0;34m,\u001b[0m\u001b[0;34m\u001b[0m\u001b[0;34m\u001b[0m\u001b[0m\n\u001b[1;32m      4\u001b[0m                              \u001b[0;34m'Mono'\u001b[0m\u001b[0;34m,\u001b[0m \u001b[0;34m'Monterey'\u001b[0m\u001b[0;34m,\u001b[0m \u001b[0;34m'Napa'\u001b[0m\u001b[0;34m,\u001b[0m \u001b[0;34m'Nevada'\u001b[0m\u001b[0;34m,\u001b[0m \u001b[0;34m'Orange'\u001b[0m\u001b[0;34m,\u001b[0m \u001b[0;34m'Placer'\u001b[0m\u001b[0;34m,\u001b[0m\u001b[0;34m\u001b[0m\u001b[0;34m\u001b[0m\u001b[0m\n\u001b[1;32m      5\u001b[0m                              \u001b[0;34m'Plumas'\u001b[0m\u001b[0;34m,\u001b[0m \u001b[0;34m'Riverside'\u001b[0m\u001b[0;34m,\u001b[0m \u001b[0;34m'Sacramento'\u001b[0m\u001b[0;34m,\u001b[0m \u001b[0;34m'San Benito'\u001b[0m\u001b[0;34m,\u001b[0m \u001b[0;34m'San Bernardino'\u001b[0m\u001b[0;34m,\u001b[0m \u001b[0;34m'San Diego'\u001b[0m\u001b[0;34m,\u001b[0m\u001b[0;34m\u001b[0m\u001b[0;34m\u001b[0m\u001b[0m\n",
      "\u001b[0;32m/opt/anaconda3/envs/PythonData/lib/python3.8/site-packages/pandas/core/indexing.py\u001b[0m in \u001b[0;36m__getitem__\u001b[0;34m(self, key)\u001b[0m\n\u001b[1;32m    871\u001b[0m                     \u001b[0;31m# AttributeError for IntervalTree get_value\u001b[0m\u001b[0;34m\u001b[0m\u001b[0;34m\u001b[0m\u001b[0;34m\u001b[0m\u001b[0m\n\u001b[1;32m    872\u001b[0m                     \u001b[0;32mpass\u001b[0m\u001b[0;34m\u001b[0m\u001b[0;34m\u001b[0m\u001b[0m\n\u001b[0;32m--> 873\u001b[0;31m             \u001b[0;32mreturn\u001b[0m \u001b[0mself\u001b[0m\u001b[0;34m.\u001b[0m\u001b[0m_getitem_tuple\u001b[0m\u001b[0;34m(\u001b[0m\u001b[0mkey\u001b[0m\u001b[0;34m)\u001b[0m\u001b[0;34m\u001b[0m\u001b[0;34m\u001b[0m\u001b[0m\n\u001b[0m\u001b[1;32m    874\u001b[0m         \u001b[0;32melse\u001b[0m\u001b[0;34m:\u001b[0m\u001b[0;34m\u001b[0m\u001b[0;34m\u001b[0m\u001b[0m\n\u001b[1;32m    875\u001b[0m             \u001b[0;31m# we by definition only have the 0th axis\u001b[0m\u001b[0;34m\u001b[0m\u001b[0;34m\u001b[0m\u001b[0;34m\u001b[0m\u001b[0m\n",
      "\u001b[0;32m/opt/anaconda3/envs/PythonData/lib/python3.8/site-packages/pandas/core/indexing.py\u001b[0m in \u001b[0;36m_getitem_tuple\u001b[0;34m(self, tup)\u001b[0m\n\u001b[1;32m   1051\u001b[0m         \u001b[0;31m# ugly hack for GH #836\u001b[0m\u001b[0;34m\u001b[0m\u001b[0;34m\u001b[0m\u001b[0;34m\u001b[0m\u001b[0m\n\u001b[1;32m   1052\u001b[0m         \u001b[0;32mif\u001b[0m \u001b[0mself\u001b[0m\u001b[0;34m.\u001b[0m\u001b[0m_multi_take_opportunity\u001b[0m\u001b[0;34m(\u001b[0m\u001b[0mtup\u001b[0m\u001b[0;34m)\u001b[0m\u001b[0;34m:\u001b[0m\u001b[0;34m\u001b[0m\u001b[0;34m\u001b[0m\u001b[0m\n\u001b[0;32m-> 1053\u001b[0;31m             \u001b[0;32mreturn\u001b[0m \u001b[0mself\u001b[0m\u001b[0;34m.\u001b[0m\u001b[0m_multi_take\u001b[0m\u001b[0;34m(\u001b[0m\u001b[0mtup\u001b[0m\u001b[0;34m)\u001b[0m\u001b[0;34m\u001b[0m\u001b[0;34m\u001b[0m\u001b[0m\n\u001b[0m\u001b[1;32m   1054\u001b[0m \u001b[0;34m\u001b[0m\u001b[0m\n\u001b[1;32m   1055\u001b[0m         \u001b[0;32mreturn\u001b[0m \u001b[0mself\u001b[0m\u001b[0;34m.\u001b[0m\u001b[0m_getitem_tuple_same_dim\u001b[0m\u001b[0;34m(\u001b[0m\u001b[0mtup\u001b[0m\u001b[0;34m)\u001b[0m\u001b[0;34m\u001b[0m\u001b[0;34m\u001b[0m\u001b[0m\n",
      "\u001b[0;32m/opt/anaconda3/envs/PythonData/lib/python3.8/site-packages/pandas/core/indexing.py\u001b[0m in \u001b[0;36m_multi_take\u001b[0;34m(self, tup)\u001b[0m\n\u001b[1;32m   1001\u001b[0m         \"\"\"\n\u001b[1;32m   1002\u001b[0m         \u001b[0;31m# GH 836\u001b[0m\u001b[0;34m\u001b[0m\u001b[0;34m\u001b[0m\u001b[0;34m\u001b[0m\u001b[0m\n\u001b[0;32m-> 1003\u001b[0;31m         d = {\n\u001b[0m\u001b[1;32m   1004\u001b[0m             \u001b[0maxis\u001b[0m\u001b[0;34m:\u001b[0m \u001b[0mself\u001b[0m\u001b[0;34m.\u001b[0m\u001b[0m_get_listlike_indexer\u001b[0m\u001b[0;34m(\u001b[0m\u001b[0mkey\u001b[0m\u001b[0;34m,\u001b[0m \u001b[0maxis\u001b[0m\u001b[0;34m)\u001b[0m\u001b[0;34m\u001b[0m\u001b[0;34m\u001b[0m\u001b[0m\n\u001b[1;32m   1005\u001b[0m             \u001b[0;32mfor\u001b[0m \u001b[0;34m(\u001b[0m\u001b[0mkey\u001b[0m\u001b[0;34m,\u001b[0m \u001b[0maxis\u001b[0m\u001b[0;34m)\u001b[0m \u001b[0;32min\u001b[0m \u001b[0mzip\u001b[0m\u001b[0;34m(\u001b[0m\u001b[0mtup\u001b[0m\u001b[0;34m,\u001b[0m \u001b[0mself\u001b[0m\u001b[0;34m.\u001b[0m\u001b[0mobj\u001b[0m\u001b[0;34m.\u001b[0m\u001b[0m_AXIS_ORDERS\u001b[0m\u001b[0;34m)\u001b[0m\u001b[0;34m\u001b[0m\u001b[0;34m\u001b[0m\u001b[0m\n",
      "\u001b[0;32m/opt/anaconda3/envs/PythonData/lib/python3.8/site-packages/pandas/core/indexing.py\u001b[0m in \u001b[0;36m<dictcomp>\u001b[0;34m(.0)\u001b[0m\n\u001b[1;32m   1002\u001b[0m         \u001b[0;31m# GH 836\u001b[0m\u001b[0;34m\u001b[0m\u001b[0;34m\u001b[0m\u001b[0;34m\u001b[0m\u001b[0m\n\u001b[1;32m   1003\u001b[0m         d = {\n\u001b[0;32m-> 1004\u001b[0;31m             \u001b[0maxis\u001b[0m\u001b[0;34m:\u001b[0m \u001b[0mself\u001b[0m\u001b[0;34m.\u001b[0m\u001b[0m_get_listlike_indexer\u001b[0m\u001b[0;34m(\u001b[0m\u001b[0mkey\u001b[0m\u001b[0;34m,\u001b[0m \u001b[0maxis\u001b[0m\u001b[0;34m)\u001b[0m\u001b[0;34m\u001b[0m\u001b[0;34m\u001b[0m\u001b[0m\n\u001b[0m\u001b[1;32m   1005\u001b[0m             \u001b[0;32mfor\u001b[0m \u001b[0;34m(\u001b[0m\u001b[0mkey\u001b[0m\u001b[0;34m,\u001b[0m \u001b[0maxis\u001b[0m\u001b[0;34m)\u001b[0m \u001b[0;32min\u001b[0m \u001b[0mzip\u001b[0m\u001b[0;34m(\u001b[0m\u001b[0mtup\u001b[0m\u001b[0;34m,\u001b[0m \u001b[0mself\u001b[0m\u001b[0;34m.\u001b[0m\u001b[0mobj\u001b[0m\u001b[0;34m.\u001b[0m\u001b[0m_AXIS_ORDERS\u001b[0m\u001b[0;34m)\u001b[0m\u001b[0;34m\u001b[0m\u001b[0;34m\u001b[0m\u001b[0m\n\u001b[1;32m   1006\u001b[0m         }\n",
      "\u001b[0;32m/opt/anaconda3/envs/PythonData/lib/python3.8/site-packages/pandas/core/indexing.py\u001b[0m in \u001b[0;36m_get_listlike_indexer\u001b[0;34m(self, key, axis, raise_missing)\u001b[0m\n\u001b[1;32m   1252\u001b[0m             \u001b[0mkeyarr\u001b[0m\u001b[0;34m,\u001b[0m \u001b[0mindexer\u001b[0m\u001b[0;34m,\u001b[0m \u001b[0mnew_indexer\u001b[0m \u001b[0;34m=\u001b[0m \u001b[0max\u001b[0m\u001b[0;34m.\u001b[0m\u001b[0m_reindex_non_unique\u001b[0m\u001b[0;34m(\u001b[0m\u001b[0mkeyarr\u001b[0m\u001b[0;34m)\u001b[0m\u001b[0;34m\u001b[0m\u001b[0;34m\u001b[0m\u001b[0m\n\u001b[1;32m   1253\u001b[0m \u001b[0;34m\u001b[0m\u001b[0m\n\u001b[0;32m-> 1254\u001b[0;31m         \u001b[0mself\u001b[0m\u001b[0;34m.\u001b[0m\u001b[0m_validate_read_indexer\u001b[0m\u001b[0;34m(\u001b[0m\u001b[0mkeyarr\u001b[0m\u001b[0;34m,\u001b[0m \u001b[0mindexer\u001b[0m\u001b[0;34m,\u001b[0m \u001b[0maxis\u001b[0m\u001b[0;34m,\u001b[0m \u001b[0mraise_missing\u001b[0m\u001b[0;34m=\u001b[0m\u001b[0mraise_missing\u001b[0m\u001b[0;34m)\u001b[0m\u001b[0;34m\u001b[0m\u001b[0;34m\u001b[0m\u001b[0m\n\u001b[0m\u001b[1;32m   1255\u001b[0m         \u001b[0;32mreturn\u001b[0m \u001b[0mkeyarr\u001b[0m\u001b[0;34m,\u001b[0m \u001b[0mindexer\u001b[0m\u001b[0;34m\u001b[0m\u001b[0;34m\u001b[0m\u001b[0m\n\u001b[1;32m   1256\u001b[0m \u001b[0;34m\u001b[0m\u001b[0m\n",
      "\u001b[0;32m/opt/anaconda3/envs/PythonData/lib/python3.8/site-packages/pandas/core/indexing.py\u001b[0m in \u001b[0;36m_validate_read_indexer\u001b[0;34m(self, key, indexer, axis, raise_missing)\u001b[0m\n\u001b[1;32m   1296\u001b[0m             \u001b[0;32mif\u001b[0m \u001b[0mmissing\u001b[0m \u001b[0;34m==\u001b[0m \u001b[0mlen\u001b[0m\u001b[0;34m(\u001b[0m\u001b[0mindexer\u001b[0m\u001b[0;34m)\u001b[0m\u001b[0;34m:\u001b[0m\u001b[0;34m\u001b[0m\u001b[0;34m\u001b[0m\u001b[0m\n\u001b[1;32m   1297\u001b[0m                 \u001b[0maxis_name\u001b[0m \u001b[0;34m=\u001b[0m \u001b[0mself\u001b[0m\u001b[0;34m.\u001b[0m\u001b[0mobj\u001b[0m\u001b[0;34m.\u001b[0m\u001b[0m_get_axis_name\u001b[0m\u001b[0;34m(\u001b[0m\u001b[0maxis\u001b[0m\u001b[0;34m)\u001b[0m\u001b[0;34m\u001b[0m\u001b[0;34m\u001b[0m\u001b[0m\n\u001b[0;32m-> 1298\u001b[0;31m                 \u001b[0;32mraise\u001b[0m \u001b[0mKeyError\u001b[0m\u001b[0;34m(\u001b[0m\u001b[0;34mf\"None of [{key}] are in the [{axis_name}]\"\u001b[0m\u001b[0;34m)\u001b[0m\u001b[0;34m\u001b[0m\u001b[0;34m\u001b[0m\u001b[0m\n\u001b[0m\u001b[1;32m   1299\u001b[0m \u001b[0;34m\u001b[0m\u001b[0m\n\u001b[1;32m   1300\u001b[0m             \u001b[0;31m# We (temporarily) allow for some missing keys with .loc, except in\u001b[0m\u001b[0;34m\u001b[0m\u001b[0;34m\u001b[0m\u001b[0;34m\u001b[0m\u001b[0m\n",
      "\u001b[0;31mKeyError\u001b[0m: \"None of [Index(['Alameda', 'Amador', 'Butte', 'Calaveras', 'Colusa', 'Contra Costa',\\n       'Del Norte', 'El Dorado', 'Fresno', 'Glenn', 'Humboldt', 'Imperial',\\n       'Inyo', 'Kern', 'Kings', 'Lake', 'Lassen', 'Los Angeles', 'Madera',\\n       'Marin', 'Mariposa', 'Mendocino', 'Merced', 'Modoc', 'Mono', 'Monterey',\\n       'Napa', 'Nevada', 'Orange', 'Placer', 'Plumas', 'Riverside',\\n       'Sacramento', 'San Benito', 'San Bernardino', 'San Diego',\\n       'San Francisco', 'San Joaquin', 'San Luis Obispo', 'San Mateo',\\n       'Santa Clara', 'Shasta', 'Sutter', 'Siskiyou', 'Solano', 'Sonoma',\\n       'Santa Barbara', 'Stanislaus', 'Tuolumne', 'Trinity', 'Tehama',\\n       'Tulare', 'Ventura', 'Yolo', 'Yuba'],\\n      dtype='object')] are in the [index]\""
     ]
    }
   ],
   "source": [
    "Sorted_data = icu_data_df.loc[['Alameda', 'Amador', 'Butte', 'Calaveras', 'Colusa', 'Contra Costa', 'Del Norte',\n",
    "                             'El Dorado', 'Fresno', 'Glenn','Humboldt', 'Imperial', 'Inyo', 'Kern', 'Kings', 'Lake', \n",
    "                             'Lassen', 'Los Angeles', 'Madera', 'Marin', 'Mariposa', 'Mendocino', 'Merced', 'Modoc',\n",
    "                             'Mono', 'Monterey', 'Napa', 'Nevada', 'Orange', 'Placer',\n",
    "                             'Plumas', 'Riverside', 'Sacramento', 'San Benito', 'San Bernardino', 'San Diego', \n",
    "                             'San Francisco', 'San Joaquin', 'San Luis Obispo','San Mateo', 'Santa Clara',\n",
    "                             'Shasta','Sutter', 'Siskiyou', 'Solano', 'Sonoma','Santa Barbara', \n",
    "                             'Stanislaus', 'Tuolumne', 'Trinity', 'Tehama', 'Tulare','Ventura', 'Yolo', 'Yuba'],\n",
    "                    ['todays_date', 'hospitalized_covid_confirmed_patients', 'hospitalized_suspected_covid_patients', \n",
    "                     'icu_covid_confirmed_patients', 'icu_suspected_covid_patients', 'icu_available_beds']]\n",
    "Sorted_data"
   ]
  },
  {
   "cell_type": "code",
   "execution_count": 15,
   "metadata": {},
   "outputs": [
    {
     "ename": "NameError",
     "evalue": "name 'Sorted_data' is not defined",
     "output_type": "error",
     "traceback": [
      "\u001b[0;31m---------------------------------------------------------------------------\u001b[0m",
      "\u001b[0;31mNameError\u001b[0m                                 Traceback (most recent call last)",
      "\u001b[0;32m<ipython-input-15-31b064929bba>\u001b[0m in \u001b[0;36m<module>\u001b[0;34m\u001b[0m\n\u001b[0;32m----> 1\u001b[0;31m icu_hospital_clean_data = Sorted_data.rename(columns={\"hospitalized_covid_confirmed_patients\": \"Confirmed Covid Patients\", \n\u001b[0m\u001b[1;32m      2\u001b[0m                                          \u001b[0;34m\"hospitalized_suspected_covid_patients\"\u001b[0m\u001b[0;34m:\u001b[0m \u001b[0;34m\"Suspected Covid Patinets\"\u001b[0m\u001b[0;34m,\u001b[0m\u001b[0;34m\u001b[0m\u001b[0;34m\u001b[0m\u001b[0m\n\u001b[1;32m      3\u001b[0m                                         \u001b[0;34m\"todays_date\"\u001b[0m\u001b[0;34m:\u001b[0m \u001b[0;34m\"Date\"\u001b[0m\u001b[0;34m,\u001b[0m \u001b[0;34m\"icu_covid_confirmed_patients\"\u001b[0m\u001b[0;34m:\u001b[0m \u001b[0;34m\"Confirmed Covid ICU Patients\"\u001b[0m\u001b[0;34m,\u001b[0m\u001b[0;34m\u001b[0m\u001b[0;34m\u001b[0m\u001b[0m\n\u001b[1;32m      4\u001b[0m                                         \"icu_suspected_covid_patients\": \"ICU suspected COVID Patients\", \"icu_available_beds\": \"ICU Beds Available\"})\n\u001b[1;32m      5\u001b[0m \u001b[0micu_hospital_clean_data\u001b[0m\u001b[0;34m\u001b[0m\u001b[0;34m\u001b[0m\u001b[0m\n",
      "\u001b[0;31mNameError\u001b[0m: name 'Sorted_data' is not defined"
     ]
    }
   ],
   "source": [
    "icu_hospital_clean_data = Sorted_data.rename(columns={\"hospitalized_covid_confirmed_patients\": \"Confirmed Covid Patients\", \n",
    "                                         \"hospitalized_suspected_covid_patients\": \"Suspected Covid Patinets\",\n",
    "                                        \"todays_date\": \"Date\", \"icu_covid_confirmed_patients\": \"Confirmed Covid ICU Patients\",\n",
    "                                        \"icu_suspected_covid_patients\": \"ICU suspected COVID Patients\", \"icu_available_beds\": \"ICU Beds Available\"})\n",
    "icu_hospital_clean_data"
   ]
  },
  {
   "cell_type": "code",
   "execution_count": 16,
   "metadata": {},
   "outputs": [
    {
     "ename": "NameError",
     "evalue": "name 'icu_hospital_clean_data' is not defined",
     "output_type": "error",
     "traceback": [
      "\u001b[0;31m---------------------------------------------------------------------------\u001b[0m",
      "\u001b[0;31mNameError\u001b[0m                                 Traceback (most recent call last)",
      "\u001b[0;32m<ipython-input-16-762992acd5e7>\u001b[0m in \u001b[0;36m<module>\u001b[0;34m\u001b[0m\n\u001b[0;32m----> 1\u001b[0;31m \u001b[0micu_hospital_clean_data\u001b[0m\u001b[0;34m.\u001b[0m\u001b[0mto_csv\u001b[0m\u001b[0;34m(\u001b[0m\u001b[0;34m\"CleanCSV/clean_hospitals_by_count.csv\"\u001b[0m\u001b[0;34m)\u001b[0m\u001b[0;34m\u001b[0m\u001b[0;34m\u001b[0m\u001b[0m\n\u001b[0m",
      "\u001b[0;31mNameError\u001b[0m: name 'icu_hospital_clean_data' is not defined"
     ]
    }
   ],
   "source": [
    "icu_hospital_clean_data.to_csv(\"CleanCSV/clean_hospitals_by_count.csv\")"
   ]
  },
  {
   "cell_type": "code",
   "execution_count": null,
   "metadata": {},
   "outputs": [],
   "source": []
  }
 ],
 "metadata": {
  "kernelspec": {
   "display_name": "Python [conda env:PythonData] *",
   "language": "python",
   "name": "conda-env-PythonData-py"
  },
  "language_info": {
   "codemirror_mode": {
    "name": "ipython",
    "version": 3
   },
   "file_extension": ".py",
   "mimetype": "text/x-python",
   "name": "python",
   "nbconvert_exporter": "python",
   "pygments_lexer": "ipython3",
   "version": "3.8.5"
  }
 },
 "nbformat": 4,
 "nbformat_minor": 4
}
